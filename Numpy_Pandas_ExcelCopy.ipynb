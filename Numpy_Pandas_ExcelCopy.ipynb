{
 "cells": [
  {
   "cell_type": "code",
   "execution_count": null,
   "id": "fd223efb",
   "metadata": {},
   "outputs": [],
   "source": [
    "import pandas as pd\n",
    "import numpy as npfrom pathlib import Path\n",
    "\n",
    "df = pd.read_excel('\\Anaconda_Python\\extract.xlsx')\n",
    "df1 = pd.read_excel('\\Anaconda_Python\\extract1.xlsx')\n",
    "\n",
    "df2 = pd.merge(df, df1, left_on= ['email', 'User ID'], right_on= ['Email', 'UserId1'], how= 'outer')\n",
    "df2['diffr'] = np.where(df2['User ID'] == df2['UserId1'] , '0' , '1')\n",
    "df2.to_excel('\\Anaconda_Python\\output.xlsx', index=False)\n"
   ]
  }
 ],
 "metadata": {
  "kernelspec": {
   "display_name": "Python 3 (ipykernel)",
   "language": "python",
   "name": "python3"
  },
  "language_info": {
   "codemirror_mode": {
    "name": "ipython",
    "version": 3
   },
   "file_extension": ".py",
   "mimetype": "text/x-python",
   "name": "python",
   "nbconvert_exporter": "python",
   "pygments_lexer": "ipython3",
   "version": "3.9.12"
  }
 },
 "nbformat": 4,
 "nbformat_minor": 5
}
